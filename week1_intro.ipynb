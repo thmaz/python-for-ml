{
 "cells": [
  {
   "cell_type": "markdown",
   "id": "5dccb556",
   "metadata": {},
   "source": [
    "### Python examples"
   ]
  },
  {
   "cell_type": "code",
   "execution_count": 45,
   "id": "0e877a63",
   "metadata": {},
   "outputs": [
    {
     "name": "stdout",
     "output_type": "stream",
     "text": [
      "hello world!\n",
      "\n"
     ]
    }
   ],
   "source": [
    "print(\"hello world!\\n\")"
   ]
  },
  {
   "cell_type": "code",
   "execution_count": 46,
   "id": "b30290e2",
   "metadata": {},
   "outputs": [
    {
     "name": "stdout",
     "output_type": "stream",
     "text": [
      "My name is Thomas, I am 24 years old, 1.74 meters tall, and it is True that I love coffee.\n"
     ]
    }
   ],
   "source": [
    "name = \"Thomas\"     # string\n",
    "age = 24            # Integer\n",
    "height = 1.74       # Float\n",
    "loves_coffee = True # Boolean value\n",
    "\n",
    "print(f\"My name is {name}, I am {age} years old, {height} meters tall, and it is {loves_coffee} that I love coffee.\")"
   ]
  },
  {
   "cell_type": "markdown",
   "id": "80f1d1fd",
   "metadata": {},
   "source": [
    "f strings in python, introduced in 3.6\n",
    "\n",
    "More on printing:\n",
    "https://coderivers.org/blog/python-print-type/ "
   ]
  },
  {
   "cell_type": "code",
   "execution_count": 47,
   "id": "f4da4ba1",
   "metadata": {},
   "outputs": [
    {
     "name": "stdout",
     "output_type": "stream",
     "text": [
      "You learned about equals or greater than!\n"
     ]
    }
   ],
   "source": [
    "num = 10\n",
    "if num % 3 == 0:\n",
    "    print(\"No remainder\")\n",
    "elif (num / 2) < 5:\n",
    "    print(\"My butt itches\")\n",
    "elif (num / 2) <= 5:\n",
    "    print(\"You learned about equals or greater than!\")\n",
    "else:\n",
    "    print(\"This should be unreachable\")"
   ]
  },
  {
   "cell_type": "code",
   "execution_count": 48,
   "id": "9ae95cfb",
   "metadata": {},
   "outputs": [
    {
     "name": "stdout",
     "output_type": "stream",
     "text": [
      "chips\n",
      "chocolate\n",
      "popcorn\n"
     ]
    }
   ],
   "source": [
    "snacks = [\"chips\", \"chocolate\", \"popcorn\"]\n",
    "\n",
    "for i in snacks:\n",
    "    print(i)"
   ]
  },
  {
   "cell_type": "code",
   "execution_count": 49,
   "id": "f3e2a272",
   "metadata": {},
   "outputs": [
    {
     "name": "stdout",
     "output_type": "stream",
     "text": [
      "4\n",
      "3\n",
      "2\n",
      "1\n",
      "0\n",
      "Let's exit the loop now.\n"
     ]
    }
   ],
   "source": [
    "countdown = 5\n",
    "\n",
    "while countdown != 0:\n",
    "    countdown -= 1\n",
    "    print(countdown)\n",
    "    if countdown == 0:\n",
    "        print(\"Let's exit the loop now.\")"
   ]
  },
  {
   "cell_type": "markdown",
   "id": "5541b713",
   "metadata": {},
   "source": [
    "This page from the **official** python docs gives a proper overview of conditionals, loops, control flow:\n",
    "\n",
    "https://docs.python.org/3/tutorial/controlflow.html"
   ]
  },
  {
   "cell_type": "code",
   "execution_count": 50,
   "id": "c2f80669",
   "metadata": {},
   "outputs": [
    {
     "data": {
      "text/plain": [
       "'Hello, Thomas'"
      ]
     },
     "execution_count": 50,
     "metadata": {},
     "output_type": "execute_result"
    }
   ],
   "source": [
    "def greet(name: str):\n",
    "    return f\"Hello, {name}\"\n",
    "\n",
    "# I can define a comment like this\n",
    "coolguy = \"Thomas\"\n",
    "greet(coolguy)"
   ]
  },
  {
   "cell_type": "code",
   "execution_count": 51,
   "id": "57a2fb04",
   "metadata": {},
   "outputs": [
    {
     "name": "stdout",
     "output_type": "stream",
     "text": [
      "1\n",
      "2\n",
      "4\n",
      "5\n",
      "6\n",
      "\n",
      "Sum: 18 \n",
      "\n",
      "Numbers: [1, 2, 4, 5, 6, 'monkey'] \n",
      "\n"
     ]
    }
   ],
   "source": [
    "# List: ordered, mutable, multiple data types\n",
    "numbers = [1, 2, 3, 4, 5]\n",
    "numbers.append(6)  # Add an element\n",
    "numbers.remove(3)  # Remove an element\n",
    "for i in numbers:\n",
    "    print(i)\n",
    "\n",
    "print(\"\\nSum:\", sum(numbers), \"\\n\")\n",
    "\n",
    "numbers.append('monkey')\n",
    "print(\"Numbers:\", numbers, \"\\n\")"
   ]
  },
  {
   "cell_type": "code",
   "execution_count": 52,
   "id": "690ba602",
   "metadata": {},
   "outputs": [
    {
     "name": "stdout",
     "output_type": "stream",
     "text": [
      "Set: {1, 2, 3, 4, 5}\n",
      "Updated Set: {1, 2, 3, 4, 5, 6}\n",
      "After Removal: {1, 2, 4, 5, 6}\n",
      "After Duplicating Add: {1, 2, 4, 5, 6}\n"
     ]
    }
   ],
   "source": [
    "# Set: unordered, unique. Items can be added and removed, but you cannot access elements by index, and duplicates are ignored.\n",
    "# Creating a set\n",
    "my_set = {1, 2, 3, 4, 5}\n",
    "print(\"Set:\", my_set)\n",
    "\n",
    "# Adding an element\n",
    "my_set.add(6)\n",
    "print(\"Updated Set:\", my_set)\n",
    "\n",
    "# Removing an element\n",
    "my_set.remove(3)\n",
    "print(\"After Removal:\", my_set)\n",
    "\n",
    "# Adding a duplicate (will have no effect)\n",
    "my_set.add(2)\n",
    "print(\"After Duplicating Add:\", my_set)  # No change"
   ]
  },
  {
   "cell_type": "code",
   "execution_count": 53,
   "id": "556c0952",
   "metadata": {},
   "outputs": [
    {
     "name": "stdout",
     "output_type": "stream",
     "text": [
      "3 \n",
      "\n",
      "Ken\n",
      "Laura\n",
      "Bob\n"
     ]
    }
   ],
   "source": [
    "# Tuple: ordered, unmutable. Mostly declared once, and then never modified after.\n",
    "friends = ('Ken', 'Laura', 'Bob')\n",
    "print(len(friends), \"\\n\")\n",
    "for names in friends:\n",
    "    print(names)"
   ]
  },
  {
   "cell_type": "code",
   "execution_count": 56,
   "id": "d8d66f55",
   "metadata": {},
   "outputs": [
    {
     "name": "stdout",
     "output_type": "stream",
     "text": [
      "First number in: 5.0\n",
      "Second number in: 8.0\n",
      "Addition: 13.0\n",
      "Subtraction: -3.0\n"
     ]
    }
   ],
   "source": [
    "def add(x, y):\n",
    "    return x + y\n",
    "\n",
    "def subtract(x, y):\n",
    "    return x - y\n",
    "\n",
    "# input() will make the interpreter wait for user input, where the return value of the input can be assigned to a variable\n",
    "num1 = float(input(\"Enter first number: \"))\n",
    "num2 = float(input(\"Enter second number: \"))\n",
    "\n",
    "print(f\"First number in: {num1}\")\n",
    "print(f\"Second number in: {num2}\")\n",
    "print(\"Addition:\", add(num1, num2))\n",
    "print(\"Subtraction:\", subtract(num1, num2))"
   ]
  },
  {
   "cell_type": "markdown",
   "id": "9183c568",
   "metadata": {},
   "source": [
    "Above is a simple calculator. Excercise for next session is to expand the calculator to support the following arithmetic operators:\n",
    "- Multiply: <code>*</code>\n",
    "- Division: <code>/</code>\n",
    "- Floor division: <code>//</code>\n",
    "- Power: <code>**</code>\n",
    "- Modulus: <code>$</code>\n",
    "\n",
    "Overview of arithmetic operators + how they can be used in code:\n",
    "https://www.w3schools.com/python/gloss_python_arithmetic_operators.asp"
   ]
  }
 ],
 "metadata": {
  "kernelspec": {
   "display_name": ".venv",
   "language": "python",
   "name": "python3"
  },
  "language_info": {
   "codemirror_mode": {
    "name": "ipython",
    "version": 3
   },
   "file_extension": ".py",
   "mimetype": "text/x-python",
   "name": "python",
   "nbconvert_exporter": "python",
   "pygments_lexer": "ipython3",
   "version": "3.13.7"
  }
 },
 "nbformat": 4,
 "nbformat_minor": 5
}
